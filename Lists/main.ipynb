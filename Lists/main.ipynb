{
 "cells": [
  {
   "cell_type": "markdown",
   "id": "2b5148c2",
   "metadata": {},
   "source": [
    "# Lists"
   ]
  },
  {
   "cell_type": "markdown",
   "id": "f8ca7240",
   "metadata": {},
   "source": [
    " A list is a collection of items in a particular order. You can make a list that \n",
    "includes the letters of the alphabet,\n",
    "\n",
    "the digits from 0–9, or the names of \n",
    "all the people in your family. You can put anything you want into a list,\n",
    "\n",
    "and\n",
    "the items in your list don’t have to be related in any particular way. Because \n",
    "a list usually contains more than one element,\n",
    "\n",
    "it’s a good idea to make the \n",
    "name of your list plural, such as letters, digits, or names. \n",
    "\n",
    "\n",
    "In Python, square brackets ([]) indicate a list, and individual elements \n",
    "in the list are separated by commas.\n",
    "\n",
    "Here’s a simple example of a list that \n",
    "contains a few kinds of programming langueges:"
   ]
  },
  {
   "cell_type": "code",
   "execution_count": 1,
   "id": "cb028c48",
   "metadata": {},
   "outputs": [
    {
     "data": {
      "text/plain": [
       "['c', 'python', 'golang', 'c++', 'swift', 'matlab']"
      ]
     },
     "execution_count": 1,
     "metadata": {},
     "output_type": "execute_result"
    }
   ],
   "source": [
    "langueges = [\"c\", \"python\", \"golang\",\"c++\", \"swift\", \"matlab\"]\n",
    "langueges"
   ]
  },
  {
   "cell_type": "code",
   "execution_count": 2,
   "id": "d4080481",
   "metadata": {},
   "outputs": [
    {
     "data": {
      "text/plain": [
       "'python'"
      ]
     },
     "execution_count": 2,
     "metadata": {},
     "output_type": "execute_result"
    }
   ],
   "source": [
    "langueges[1]"
   ]
  },
  {
   "cell_type": "code",
   "execution_count": 3,
   "id": "4ea49b6e",
   "metadata": {},
   "outputs": [
    {
     "data": {
      "text/plain": [
       "'matlab'"
      ]
     },
     "execution_count": 3,
     "metadata": {},
     "output_type": "execute_result"
    }
   ],
   "source": [
    "langueges[-1]"
   ]
  },
  {
   "cell_type": "code",
   "execution_count": 4,
   "id": "8c6a0f40",
   "metadata": {},
   "outputs": [
    {
     "data": {
      "text/plain": [
       "['python', 'golang', 'c++']"
      ]
     },
     "execution_count": 4,
     "metadata": {},
     "output_type": "execute_result"
    }
   ],
   "source": [
    "langueges[1:4]"
   ]
  },
  {
   "cell_type": "code",
   "execution_count": 5,
   "id": "c265e564",
   "metadata": {
    "scrolled": true
   },
   "outputs": [
    {
     "data": {
      "text/plain": [
       "['python', 'c++', 'matlab']"
      ]
     },
     "execution_count": 5,
     "metadata": {},
     "output_type": "execute_result"
    }
   ],
   "source": [
    "langueges[1::2]"
   ]
  },
  {
   "cell_type": "code",
   "execution_count": 6,
   "id": "383f2011",
   "metadata": {},
   "outputs": [
    {
     "data": {
      "text/plain": [
       "['c', 'golang', 'swift']"
      ]
     },
     "execution_count": 6,
     "metadata": {},
     "output_type": "execute_result"
    }
   ],
   "source": [
    "langueges[::2]"
   ]
  },
  {
   "cell_type": "code",
   "execution_count": null,
   "id": "cc74666a",
   "metadata": {},
   "outputs": [],
   "source": [
    "langueges[1].title()"
   ]
  },
  {
   "cell_type": "code",
   "execution_count": null,
   "id": "4f9e8795",
   "metadata": {},
   "outputs": [],
   "source": [
    "print(f'My favorite programming languege is {langueges[1].title()}.')"
   ]
  },
  {
   "cell_type": "code",
   "execution_count": null,
   "id": "dda84196",
   "metadata": {},
   "outputs": [],
   "source": [
    "langueges = [\"c\", \"python\", \"golang\",\"c++\", \"swift\", \"matlab\"]\n",
    "langueges[0] = \"java\"\n",
    "langueges"
   ]
  },
  {
   "cell_type": "code",
   "execution_count": null,
   "id": "e11e2817",
   "metadata": {},
   "outputs": [],
   "source": [
    "langueges.append(\"ruby\")\n",
    "langueges.append(\"c#\")\n",
    "langueges"
   ]
  },
  {
   "cell_type": "code",
   "execution_count": null,
   "id": "3a7addd3",
   "metadata": {},
   "outputs": [],
   "source": [
    "lessons = []\n",
    "lessons.append(\"Advanced Prograamming\")\n",
    "lessons.append(\"Mathematical Analysis\")\n",
    "lessons"
   ]
  },
  {
   "cell_type": "code",
   "execution_count": null,
   "id": "9776e0aa",
   "metadata": {},
   "outputs": [],
   "source": [
    "lessons.insert(0, \"Probability\")\n",
    "lessons"
   ]
  },
  {
   "cell_type": "code",
   "execution_count": null,
   "id": "a998cf17",
   "metadata": {},
   "outputs": [],
   "source": [
    "del lessons[-3]\n",
    "lessons"
   ]
  },
  {
   "cell_type": "code",
   "execution_count": null,
   "id": "26a5f9d4",
   "metadata": {
    "scrolled": true
   },
   "outputs": [],
   "source": [
    "lessons = ['Probability', 'Advanced Prograamming', 'Mathematical Analysis']\n",
    "poped_element = lessons.pop()\n",
    "print(poped_element)\n",
    "lessons"
   ]
  },
  {
   "cell_type": "code",
   "execution_count": null,
   "id": "41220e0d",
   "metadata": {},
   "outputs": [],
   "source": [
    "poped_element = lessons.pop(0)\n",
    "print(poped_element)\n",
    "lessons"
   ]
  },
  {
   "cell_type": "code",
   "execution_count": null,
   "id": "886f5a67",
   "metadata": {},
   "outputs": [],
   "source": [
    "cars = ['bmw', 'audi', 'toyota', 'porsche']\n",
    "cars.remove(\"toyota\")\n",
    "print(cars)"
   ]
  },
  {
   "cell_type": "code",
   "execution_count": null,
   "id": "912a8053",
   "metadata": {},
   "outputs": [],
   "source": [
    "cars = ['bmw', 'audi', 'toyota', 'porsche']\n",
    "cars.sort()\n",
    "cars"
   ]
  },
  {
   "cell_type": "code",
   "execution_count": null,
   "id": "c8a3e06b",
   "metadata": {},
   "outputs": [],
   "source": [
    "cars = ['bmw', 'audi', 'toyota', 'porsche']\n",
    "cars.sort(reverse=True)\n",
    "cars"
   ]
  },
  {
   "cell_type": "code",
   "execution_count": null,
   "id": "c379703f",
   "metadata": {},
   "outputs": [],
   "source": [
    "cars = ['bmw', 'audi', 'toyota', 'porsche']\n",
    "cars.reverse()\n",
    "cars"
   ]
  },
  {
   "cell_type": "code",
   "execution_count": null,
   "id": "f4c887fc",
   "metadata": {},
   "outputs": [],
   "source": [
    "len(cars) "
   ]
  },
  {
   "cell_type": "code",
   "execution_count": null,
   "id": "1239d5a9",
   "metadata": {
    "scrolled": true
   },
   "outputs": [],
   "source": [
    "editors = [\"pycharm\", \"vscode\", \"vim\", \"jupyter notebook\"]\n",
    "for i in range(len(editors)):\n",
    "    print(editors[i].title())"
   ]
  },
  {
   "cell_type": "code",
   "execution_count": null,
   "id": "13378926",
   "metadata": {},
   "outputs": [],
   "source": [
    "for car in cars:\n",
    "    print(car.title())"
   ]
  }
 ],
 "metadata": {
  "kernelspec": {
   "display_name": "Python 3 (ipykernel)",
   "language": "python",
   "name": "python3"
  },
  "language_info": {
   "codemirror_mode": {
    "name": "ipython",
    "version": 3
   },
   "file_extension": ".py",
   "mimetype": "text/x-python",
   "name": "python",
   "nbconvert_exporter": "python",
   "pygments_lexer": "ipython3",
   "version": "3.11.4"
  }
 },
 "nbformat": 4,
 "nbformat_minor": 5
}
